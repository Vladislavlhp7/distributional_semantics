{
  "cells": [
    {
      "cell_type": "code",
      "execution_count": 2,
      "metadata": {
        "colab": {
          "base_uri": "https://localhost:8080/"
        },
        "id": "Avk6evwih05Z",
        "outputId": "d9a5be29-1e3c-4418-e99c-a9ee7c7570b5"
      },
      "outputs": [
        {
          "output_type": "stream",
          "name": "stderr",
          "text": [
            "[nltk_data] Downloading package words to /root/nltk_data...\n",
            "[nltk_data]   Unzipping corpora/words.zip.\n",
            "[nltk_data] Downloading package punkt to /root/nltk_data...\n",
            "[nltk_data]   Unzipping tokenizers/punkt.zip.\n",
            "[nltk_data] Downloading package stopwords to /root/nltk_data...\n",
            "[nltk_data]   Unzipping corpora/stopwords.zip.\n"
          ]
        },
        {
          "output_type": "execute_result",
          "data": {
            "text/plain": [
              "True"
            ]
          },
          "metadata": {},
          "execution_count": 2
        }
      ],
      "source": [
        "import nltk\n",
        "nltk.download('words')\n",
        "from nltk.corpus import words\n",
        "nltk.download('punkt')\n",
        "nltk.download('stopwords')"
      ]
    },
    {
      "cell_type": "code",
      "execution_count": 3,
      "metadata": {
        "id": "DbcZapAjh4VU"
      },
      "outputs": [],
      "source": [
        "from nltk.tokenize import MWETokenizer, word_tokenize\n",
        "from nltk.corpus import stopwords\n",
        "from nltk.stem import SnowballStemmer\n",
        "from collections import Counter"
      ]
    },
    {
      "cell_type": "code",
      "execution_count": 4,
      "metadata": {
        "id": "4WrAcj6ih5UW"
      },
      "outputs": [],
      "source": [
        "import numpy as np\n",
        "import tqdm\n",
        "import pandas as pd\n",
        "import pathlib\n",
        "import os\n",
        "import re\n",
        "import string\n",
        "import time\n",
        "from random import random\n",
        "from collections import defaultdict\n",
        "from typing import List, Union\n",
        "import pprint\n",
        "import json\n",
        "import tensorflow as tf\n",
        "from gensim.models import Word2Vec\n",
        "from time import time"
      ]
    },
    {
      "cell_type": "code",
      "source": [
        "import seaborn as sns\n",
        "import matplotlib.pyplot as plt"
      ],
      "metadata": {
        "id": "IE9URc498WH7"
      },
      "execution_count": 5,
      "outputs": []
    },
    {
      "cell_type": "markdown",
      "metadata": {
        "id": "gZOu6zQ4h9pF"
      },
      "source": [
        "#### Mount to Google Drive"
      ]
    },
    {
      "cell_type": "code",
      "execution_count": 6,
      "metadata": {
        "colab": {
          "base_uri": "https://localhost:8080/"
        },
        "id": "XEIPSlyyh6R6",
        "outputId": "d9b4dc80-d50b-4764-d89b-4c28cdb2e411"
      },
      "outputs": [
        {
          "output_type": "stream",
          "name": "stdout",
          "text": [
            "Mounted at /content/drive\n"
          ]
        }
      ],
      "source": [
        "from google.colab import drive\n",
        "drive.mount('/content/drive')\n",
        "\n",
        "product_reviews_dir = 'product_reviews'\n",
        "drive_path = \"/content/drive\" + \"/My Drive/Colab Notebooks/\" + product_reviews_dir\n",
        "files = os.listdir(drive_path)"
      ]
    },
    {
      "cell_type": "code",
      "execution_count": 71,
      "metadata": {
        "id": "gHO-bnjMgVbL"
      },
      "outputs": [],
      "source": [
        "def read_data(path: str) -> List[str]:\n",
        "    \"\"\"\n",
        "        Read files from a directory and then append the data of each file into a list.\n",
        "    :param path:\n",
        "    :return:\n",
        "    \"\"\"\n",
        "    files = os.listdir(path)  # to be iterated over in folder\n",
        "    content = \"\"  # to store the contents of each file in folder\n",
        "    files.remove('README.txt')\n",
        "    for filename in files:\n",
        "        file_path = f'{path}/{filename}'\n",
        "        file_extension = pathlib.Path(file_path).suffix\n",
        "        if '.txt' == file_extension:  # ensure we only read from *.txt files\n",
        "            with open(file_path, encoding='utf8') as f_open:\n",
        "                content_lines = f_open.read()  # grab the contents of the file\n",
        "            content += content_lines\n",
        "    return content"
      ]
    },
    {
      "cell_type": "code",
      "execution_count": 72,
      "metadata": {
        "id": "nsZNguEYiAdR"
      },
      "outputs": [],
      "source": [
        "def clean_document(document: str) -> str:\n",
        "    \"\"\"\n",
        "        Perform text and character removal\n",
        "    \"\"\"\n",
        "    # Normalize text by converting to lower case to minimise query time, computational and memory costs\n",
        "    document = document.lower()\n",
        "    # Remove redundant characters directly with custom regex to ease tokenization\n",
        "    reg_to_drop = r'''(?x)           # flag to allow comments and multi-line regex\n",
        "              | \\( | \\)              # remove ()-brackets as their contents can be useful\n",
        "              | ^\\$[\\d,]+(\\.\\d*)?$   # cut out the money expressions\n",
        "              | [^(!\"#$%&'()*+, -.\\/:;<=>?@[\\]^_`{|}~) | (a-zA-Z0-9\\s)]  # remove non-word, non-digit, non-punctuation characters, non-space, e.g. '•', '≠'\n",
        "              | \\\\[u|U][a-zA-Z0-9]+  # remove codes like `\\u00F4`\n",
        "    '''\n",
        "    reg_compiler = re.compile(reg_to_drop)\n",
        "    document = reg_compiler.sub(r'', document)\n",
        "\n",
        "    # Handle apostrophes\n",
        "    document = re.sub(r\"won\\'t\", \"will not\", document)\n",
        "    document = re.sub(r\"n\\'t\", \" not\", document)\n",
        "    document = re.sub(r\"\\'t\", \" not\", document)\n",
        "    document = re.sub(r\"\\'m\", \" am\", document)\n",
        "    document = re.sub(r\"\\'re\", \" are\", document)\n",
        "    document = re.sub(r\"\\'ll\", \" will\", document)\n",
        "    document = re.sub(r\"\\'ve\", \" have\", document)\n",
        "\n",
        "    # Add extra spaces to \\n and \\#\n",
        "    document = re.sub(r\"\\n\", \"\\n \", document)\n",
        "    document = re.sub(r\"##\", \"## \", document)\n",
        "    document = re.sub(r\"\\.\\.\\.\", \" \", document)\n",
        "\n",
        "    # Handle shortenings\n",
        "    document = re.sub(r\" u \", \" you \", document)\n",
        "    # Transform sentiments\n",
        "    document = re.sub(r\"\\[\\+\\]\", \"[+1]\", document)\n",
        "    document = re.sub(r\"\\[1\\]\", \"[+1]\", document)\n",
        "    document = re.sub(r\"\\[u\\]\", \"\", document)\n",
        "    document = re.sub(r\"\\[p\\]\", \"\", document)\n",
        "    document = re.sub(r\"\\[s\\]\", \"\", document)\n",
        "    document = re.sub(r\"\\[cc\\]\", \"\", document)\n",
        "    document = re.sub(r\"\\[cs\\]\", \"\", document)\n",
        "\n",
        "    # drop any web links\n",
        "    document = re.sub(r\"([^ ]+ (?<=\\. [a-z] {3}))\", \"<url>\", document)\n",
        "\n",
        "    return document"
      ]
    },
    {
      "cell_type": "code",
      "execution_count": 73,
      "metadata": {
        "id": "C5Wp8wD1OF70"
      },
      "outputs": [],
      "source": [
        "def process_document(document: str, drop_punct: bool = True, drop_digits: bool = True):\n",
        "    \"\"\"\n",
        "      Pre-process a document and return a list of its terms\n",
        "    :param document:\n",
        "    :return:\n",
        "    \"\"\"\n",
        "    # Clean the data\n",
        "    document = clean_document(document)\n",
        "\n",
        "    # new lines are no longer needed as the review lines have been concatenated with a space\n",
        "    document = document.replace('\\n', '')\n",
        "\n",
        "    # Apply NLTK’s recommended word tokenizer for single word expressions (swe)\n",
        "    word_tokens = word_tokenize(document)\n",
        "\n",
        "    if drop_punct:\n",
        "        punc = r'''[\\!\\(\\)\\-\\[\\]\\{\\}\\;\\:\\'\\\"\\,\\<\\>\\.\\/\\?\\@\\$\\%\\\\\\^\\&\\*\\_\\~\\`]'''\n",
        "        word_tokens = [w for w in word_tokens if not re.search(punc, w)]\n",
        "        # word_tokens = [w for w in word_tokens if not w in ['.', ',', '#', 'l', '[', ']']]\n",
        "    \n",
        "    if drop_digits:\n",
        "        digit = r'''[0-9]+'''\n",
        "        word_tokens = [w for w in word_tokens if not re.search(digit, w)]\n",
        "\n",
        "    # Remove STOP words\n",
        "    stop_words = set(stopwords.words('english'))\n",
        "    filtered_data = [w for w in word_tokens if not w.lower() in stop_words]\n",
        "\n",
        "    stemmer = SnowballStemmer(language='english')\n",
        "    filtered_data = [stemmer.stem(w) for w in filtered_data]\n",
        "\n",
        "    return filtered_data"
      ]
    },
    {
      "cell_type": "code",
      "execution_count": 74,
      "metadata": {
        "id": "YAmahE05noIH"
      },
      "outputs": [],
      "source": [
        "def parse_sentiment(sentiment_str: str, verbose: bool = False) -> int:\n",
        "    sentiment_score = 0\n",
        "    sentiment_regex = r'(?<=\\[).+?(?=\\])'\n",
        "    sentiment_scores_str = re.findall(sentiment_regex, sentiment_str)\n",
        "    if verbose:\n",
        "        print(sentiment_scores_str)\n",
        "    for s in sentiment_scores_str:\n",
        "        try:\n",
        "            sentiment_score += int(s)\n",
        "        except ValueError:\n",
        "            pass\n",
        "    return sentiment_score"
      ]
    },
    {
      "cell_type": "code",
      "execution_count": 75,
      "metadata": {
        "id": "LLIDDfoVo8GL"
      },
      "outputs": [],
      "source": [
        "assert parse_sentiment('router[+2]') == 2\n",
        "assert parse_sentiment('install[-2], router[+1]') == -1"
      ]
    },
    {
      "cell_type": "code",
      "execution_count": 76,
      "metadata": {
        "id": "0g-g6DN_j8U_"
      },
      "outputs": [],
      "source": [
        "def create_dataset(document: str):\n",
        "    \"\"\"\n",
        "        Create whole dataset with labels and sentiment score per review. \n",
        "        Also, concatenate all review lines together.\n",
        "    \"\"\"\n",
        "    dataset = []\n",
        "    # One of the files omits `[t]` hence there will be different assumptions on the authorship\n",
        "    REVIEW_MAX_CHAR_SIZE = 10_000  # hard-coded value based on distribution of review sizes\n",
        "    \n",
        "    # Iterate over each review `[t]`\n",
        "    for review in document.split('[t]'):\n",
        "        review_text = \"\"\n",
        "        sentiment = 0  # UNKNOWN\n",
        "        if len(review) <= REVIEW_MAX_CHAR_SIZE:\n",
        "            # Iterate over each review `\\n`\n",
        "            for line in review.split('\\n'):\n",
        "                # Split sentiment from review line\n",
        "                review_line_parts = line.split('##')\n",
        "                # no sentiment, only review line\n",
        "                if(len(review_line_parts) == 1):\n",
        "                    review_text += review_line_parts[0] + ' '\n",
        "                # sentiment and review line exist\n",
        "                elif(len(review_line_parts) > 1):\n",
        "                    sentiment += parse_sentiment(review_line_parts[0])\n",
        "                    review_text += review_line_parts[1] + ' '\n",
        "                else:\n",
        "                    print(review_line_parts)\n",
        "            # Define Positive, Neutral, Negative labels\n",
        "            label = 0\n",
        "            if sentiment > 0:\n",
        "                label = 1\n",
        "            elif sentiment < 0:\n",
        "                label = -1\n",
        "            review_entry = {\n",
        "                'label': label,\n",
        "                'sentiment_score': sentiment,\n",
        "                'text': review_text\n",
        "            }\n",
        "            dataset.append(review_entry)\n",
        "        else:  # since `[t]` is missing we will assume a review is a single line with a recorded sentiment\n",
        "            # Iterate over each review `\\n`\n",
        "            for line in review.split('\\n'):\n",
        "                review_text = \"\"\n",
        "                sentiment = 0  # UNKNOWN\n",
        "                review_line_parts = line.split('##')\n",
        "                # We only take the lines with sentiment and discard the rest for the faulty documents\n",
        "                if(len(review_line_parts) > 1):\n",
        "                    sentiment += parse_sentiment(review_line_parts[0])\n",
        "                    # Define Positive, Neutral, Negative labels\n",
        "                    review_text += review_line_parts[1]\n",
        "                    label = 0\n",
        "                    if sentiment > 0:\n",
        "                        label = 1\n",
        "                    elif sentiment < 0:\n",
        "                        label = -1\n",
        "                    review_entry = {\n",
        "                        'label': label,\n",
        "                        'sentiment_score': sentiment,\n",
        "                        'text': review_text\n",
        "                    }\n",
        "                    dataset.append(review_entry)\n",
        "    return dataset"
      ]
    },
    {
      "cell_type": "code",
      "execution_count": 77,
      "metadata": {
        "id": "7xwWoE9_gQVa"
      },
      "outputs": [],
      "source": [
        "content = read_data(drive_path)"
      ]
    },
    {
      "cell_type": "code",
      "execution_count": 78,
      "metadata": {
        "id": "PUkjiMdQh9RF"
      },
      "outputs": [],
      "source": [
        "content = clean_document(content)"
      ]
    },
    {
      "cell_type": "code",
      "execution_count": 79,
      "metadata": {
        "id": "2g-9IVdqruyf"
      },
      "outputs": [],
      "source": [
        "dataset = create_dataset(content)"
      ]
    },
    {
      "cell_type": "code",
      "execution_count": 80,
      "metadata": {
        "id": "JPniPEi2s47l"
      },
      "outputs": [],
      "source": [
        "dataset = [entry for entry in dataset if entry['label']!=0]  # remove Neutral classes"
      ]
    },
    {
      "cell_type": "code",
      "execution_count": 81,
      "metadata": {
        "id": "arKm1AMqNrZO"
      },
      "outputs": [],
      "source": [
        "for entry in dataset:\n",
        "    entry['tokens'] = process_document(entry['text'])"
      ]
    },
    {
      "cell_type": "markdown",
      "metadata": {
        "id": "JMgytkmnKF_0"
      },
      "source": [
        "#### Find stats about review sizes"
      ]
    },
    {
      "cell_type": "code",
      "execution_count": 82,
      "metadata": {
        "colab": {
          "base_uri": "https://localhost:8080/",
          "height": 424
        },
        "id": "ITt5gwi7KFJK",
        "outputId": "25138f3f-fa66-427b-bbf4-0620e36d7fec"
      },
      "outputs": [
        {
          "output_type": "execute_result",
          "data": {
            "text/plain": [
              "     label  sentiment_score  \\\n",
              "0        1               19   \n",
              "1       -1               -7   \n",
              "2       -1               -3   \n",
              "3        1               24   \n",
              "4        1               12   \n",
              "..     ...              ...   \n",
              "582      1                3   \n",
              "583      1                2   \n",
              "584      1                2   \n",
              "585      1                2   \n",
              "586      1                2   \n",
              "\n",
              "                                                  text  \\\n",
              "0      this router does everything that it is suppo...   \n",
              "1      it's probably a fine router, but i found the...   \n",
              "2      if you are buying this product and operate o...   \n",
              "3      for an item that is not even available in be...   \n",
              "4      i had some issues when i had enabled wep enc...   \n",
              "..                                                 ...   \n",
              "582   the ear buds that come with it look cheap, bu...   \n",
              "583     the click wheel is incredibly convenient, h...   \n",
              "584    i am a big fan of itunes, simply because it ...   \n",
              "585                                 way to go apple!     \n",
              "586   i rarely get drawn in by mass-commercialism, ...   \n",
              "\n",
              "                                                tokens  tokens_size  \n",
              "0    [router, everyth, suppos, dont, realli, know, ...           86  \n",
              "1    [probabl, fine, router, found, instal, wizard,...          135  \n",
              "2    [buy, product, oper, mac, platform, ditch, cd,...          240  \n",
              "3    [item, even, avail, best, buy, major, store, w...          236  \n",
              "4    [issu, enabl, wep, encrypt, move, wpa, iron, l...           79  \n",
              "..                                                 ...          ...  \n",
              "582  [ear, bud, come, look, cheap, sound, qualiti, ...            8  \n",
              "583  [click, wheel, incred, conveni, howev, littl, ...           12  \n",
              "584  [big, fan, itun, simpli, terribl, fast, conven...           11  \n",
              "585                                    [way, go, appl]            3  \n",
              "586  [rare, get, drawn, someth, ipod, made, say, wo...           14  \n",
              "\n",
              "[587 rows x 5 columns]"
            ],
            "text/html": [
              "\n",
              "  <div id=\"df-e9321118-1637-4bd6-a230-7ff3d305d5a8\">\n",
              "    <div class=\"colab-df-container\">\n",
              "      <div>\n",
              "<style scoped>\n",
              "    .dataframe tbody tr th:only-of-type {\n",
              "        vertical-align: middle;\n",
              "    }\n",
              "\n",
              "    .dataframe tbody tr th {\n",
              "        vertical-align: top;\n",
              "    }\n",
              "\n",
              "    .dataframe thead th {\n",
              "        text-align: right;\n",
              "    }\n",
              "</style>\n",
              "<table border=\"1\" class=\"dataframe\">\n",
              "  <thead>\n",
              "    <tr style=\"text-align: right;\">\n",
              "      <th></th>\n",
              "      <th>label</th>\n",
              "      <th>sentiment_score</th>\n",
              "      <th>text</th>\n",
              "      <th>tokens</th>\n",
              "      <th>tokens_size</th>\n",
              "    </tr>\n",
              "  </thead>\n",
              "  <tbody>\n",
              "    <tr>\n",
              "      <th>0</th>\n",
              "      <td>1</td>\n",
              "      <td>19</td>\n",
              "      <td>this router does everything that it is suppo...</td>\n",
              "      <td>[router, everyth, suppos, dont, realli, know, ...</td>\n",
              "      <td>86</td>\n",
              "    </tr>\n",
              "    <tr>\n",
              "      <th>1</th>\n",
              "      <td>-1</td>\n",
              "      <td>-7</td>\n",
              "      <td>it's probably a fine router, but i found the...</td>\n",
              "      <td>[probabl, fine, router, found, instal, wizard,...</td>\n",
              "      <td>135</td>\n",
              "    </tr>\n",
              "    <tr>\n",
              "      <th>2</th>\n",
              "      <td>-1</td>\n",
              "      <td>-3</td>\n",
              "      <td>if you are buying this product and operate o...</td>\n",
              "      <td>[buy, product, oper, mac, platform, ditch, cd,...</td>\n",
              "      <td>240</td>\n",
              "    </tr>\n",
              "    <tr>\n",
              "      <th>3</th>\n",
              "      <td>1</td>\n",
              "      <td>24</td>\n",
              "      <td>for an item that is not even available in be...</td>\n",
              "      <td>[item, even, avail, best, buy, major, store, w...</td>\n",
              "      <td>236</td>\n",
              "    </tr>\n",
              "    <tr>\n",
              "      <th>4</th>\n",
              "      <td>1</td>\n",
              "      <td>12</td>\n",
              "      <td>i had some issues when i had enabled wep enc...</td>\n",
              "      <td>[issu, enabl, wep, encrypt, move, wpa, iron, l...</td>\n",
              "      <td>79</td>\n",
              "    </tr>\n",
              "    <tr>\n",
              "      <th>...</th>\n",
              "      <td>...</td>\n",
              "      <td>...</td>\n",
              "      <td>...</td>\n",
              "      <td>...</td>\n",
              "      <td>...</td>\n",
              "    </tr>\n",
              "    <tr>\n",
              "      <th>582</th>\n",
              "      <td>1</td>\n",
              "      <td>3</td>\n",
              "      <td>the ear buds that come with it look cheap, bu...</td>\n",
              "      <td>[ear, bud, come, look, cheap, sound, qualiti, ...</td>\n",
              "      <td>8</td>\n",
              "    </tr>\n",
              "    <tr>\n",
              "      <th>583</th>\n",
              "      <td>1</td>\n",
              "      <td>2</td>\n",
              "      <td>the click wheel is incredibly convenient, h...</td>\n",
              "      <td>[click, wheel, incred, conveni, howev, littl, ...</td>\n",
              "      <td>12</td>\n",
              "    </tr>\n",
              "    <tr>\n",
              "      <th>584</th>\n",
              "      <td>1</td>\n",
              "      <td>2</td>\n",
              "      <td>i am a big fan of itunes, simply because it ...</td>\n",
              "      <td>[big, fan, itun, simpli, terribl, fast, conven...</td>\n",
              "      <td>11</td>\n",
              "    </tr>\n",
              "    <tr>\n",
              "      <th>585</th>\n",
              "      <td>1</td>\n",
              "      <td>2</td>\n",
              "      <td>way to go apple!</td>\n",
              "      <td>[way, go, appl]</td>\n",
              "      <td>3</td>\n",
              "    </tr>\n",
              "    <tr>\n",
              "      <th>586</th>\n",
              "      <td>1</td>\n",
              "      <td>2</td>\n",
              "      <td>i rarely get drawn in by mass-commercialism, ...</td>\n",
              "      <td>[rare, get, drawn, someth, ipod, made, say, wo...</td>\n",
              "      <td>14</td>\n",
              "    </tr>\n",
              "  </tbody>\n",
              "</table>\n",
              "<p>587 rows × 5 columns</p>\n",
              "</div>\n",
              "      <button class=\"colab-df-convert\" onclick=\"convertToInteractive('df-e9321118-1637-4bd6-a230-7ff3d305d5a8')\"\n",
              "              title=\"Convert this dataframe to an interactive table.\"\n",
              "              style=\"display:none;\">\n",
              "        \n",
              "  <svg xmlns=\"http://www.w3.org/2000/svg\" height=\"24px\"viewBox=\"0 0 24 24\"\n",
              "       width=\"24px\">\n",
              "    <path d=\"M0 0h24v24H0V0z\" fill=\"none\"/>\n",
              "    <path d=\"M18.56 5.44l.94 2.06.94-2.06 2.06-.94-2.06-.94-.94-2.06-.94 2.06-2.06.94zm-11 1L8.5 8.5l.94-2.06 2.06-.94-2.06-.94L8.5 2.5l-.94 2.06-2.06.94zm10 10l.94 2.06.94-2.06 2.06-.94-2.06-.94-.94-2.06-.94 2.06-2.06.94z\"/><path d=\"M17.41 7.96l-1.37-1.37c-.4-.4-.92-.59-1.43-.59-.52 0-1.04.2-1.43.59L10.3 9.45l-7.72 7.72c-.78.78-.78 2.05 0 2.83L4 21.41c.39.39.9.59 1.41.59.51 0 1.02-.2 1.41-.59l7.78-7.78 2.81-2.81c.8-.78.8-2.07 0-2.86zM5.41 20L4 18.59l7.72-7.72 1.47 1.35L5.41 20z\"/>\n",
              "  </svg>\n",
              "      </button>\n",
              "      \n",
              "  <style>\n",
              "    .colab-df-container {\n",
              "      display:flex;\n",
              "      flex-wrap:wrap;\n",
              "      gap: 12px;\n",
              "    }\n",
              "\n",
              "    .colab-df-convert {\n",
              "      background-color: #E8F0FE;\n",
              "      border: none;\n",
              "      border-radius: 50%;\n",
              "      cursor: pointer;\n",
              "      display: none;\n",
              "      fill: #1967D2;\n",
              "      height: 32px;\n",
              "      padding: 0 0 0 0;\n",
              "      width: 32px;\n",
              "    }\n",
              "\n",
              "    .colab-df-convert:hover {\n",
              "      background-color: #E2EBFA;\n",
              "      box-shadow: 0px 1px 2px rgba(60, 64, 67, 0.3), 0px 1px 3px 1px rgba(60, 64, 67, 0.15);\n",
              "      fill: #174EA6;\n",
              "    }\n",
              "\n",
              "    [theme=dark] .colab-df-convert {\n",
              "      background-color: #3B4455;\n",
              "      fill: #D2E3FC;\n",
              "    }\n",
              "\n",
              "    [theme=dark] .colab-df-convert:hover {\n",
              "      background-color: #434B5C;\n",
              "      box-shadow: 0px 1px 3px 1px rgba(0, 0, 0, 0.15);\n",
              "      filter: drop-shadow(0px 1px 2px rgba(0, 0, 0, 0.3));\n",
              "      fill: #FFFFFF;\n",
              "    }\n",
              "  </style>\n",
              "\n",
              "      <script>\n",
              "        const buttonEl =\n",
              "          document.querySelector('#df-e9321118-1637-4bd6-a230-7ff3d305d5a8 button.colab-df-convert');\n",
              "        buttonEl.style.display =\n",
              "          google.colab.kernel.accessAllowed ? 'block' : 'none';\n",
              "\n",
              "        async function convertToInteractive(key) {\n",
              "          const element = document.querySelector('#df-e9321118-1637-4bd6-a230-7ff3d305d5a8');\n",
              "          const dataTable =\n",
              "            await google.colab.kernel.invokeFunction('convertToInteractive',\n",
              "                                                     [key], {});\n",
              "          if (!dataTable) return;\n",
              "\n",
              "          const docLinkHtml = 'Like what you see? Visit the ' +\n",
              "            '<a target=\"_blank\" href=https://colab.research.google.com/notebooks/data_table.ipynb>data table notebook</a>'\n",
              "            + ' to learn more about interactive tables.';\n",
              "          element.innerHTML = '';\n",
              "          dataTable['output_type'] = 'display_data';\n",
              "          await google.colab.output.renderOutput(dataTable, element);\n",
              "          const docLink = document.createElement('div');\n",
              "          docLink.innerHTML = docLinkHtml;\n",
              "          element.appendChild(docLink);\n",
              "        }\n",
              "      </script>\n",
              "    </div>\n",
              "  </div>\n",
              "  "
            ]
          },
          "metadata": {},
          "execution_count": 82
        }
      ],
      "source": [
        "dataset_df = pd.DataFrame(dataset)\n",
        "dataset_df['tokens_size'] = dataset_df['tokens'].apply(lambda x: len(x))\n",
        "dataset_df"
      ]
    },
    {
      "cell_type": "code",
      "source": [
        "print('Positive/Negative review split:')\n",
        "dataset_df.value_counts('label')"
      ],
      "metadata": {
        "colab": {
          "base_uri": "https://localhost:8080/"
        },
        "id": "pYBIB3y-X11f",
        "outputId": "367e0802-cece-44a4-b563-8efc7ea2b790"
      },
      "execution_count": 83,
      "outputs": [
        {
          "output_type": "stream",
          "name": "stdout",
          "text": [
            "Positive/Negative review split:\n"
          ]
        },
        {
          "output_type": "execute_result",
          "data": {
            "text/plain": [
              "label\n",
              " 1    414\n",
              "-1    173\n",
              "dtype: int64"
            ]
          },
          "metadata": {},
          "execution_count": 83
        }
      ]
    },
    {
      "cell_type": "markdown",
      "metadata": {
        "id": "vHMH73CPWpLq"
      },
      "source": [
        "#### Explore review/token statistics"
      ]
    },
    {
      "cell_type": "code",
      "execution_count": 84,
      "metadata": {
        "colab": {
          "base_uri": "https://localhost:8080/"
        },
        "id": "QFfOfwNJNXLq",
        "outputId": "63bd627c-64dd-4249-eceb-53c1c5fef2f3"
      },
      "outputs": [
        {
          "output_type": "stream",
          "name": "stdout",
          "text": [
            "Biggest review has token size of: 564\n"
          ]
        }
      ],
      "source": [
        "print('Biggest review has token size of:', end=' ')\n",
        "s = dataset_df.tokens_size.max()\n",
        "print(s)"
      ]
    },
    {
      "cell_type": "code",
      "execution_count": 85,
      "metadata": {
        "colab": {
          "base_uri": "https://localhost:8080/"
        },
        "id": "BWBVCcQJMcfG",
        "outputId": "ee87fe68-5d0b-4cf8-a678-d4daae8b633e"
      },
      "outputs": [
        {
          "output_type": "stream",
          "name": "stdout",
          "text": [
            "Statistically summarise the review word count: 587\n"
          ]
        }
      ],
      "source": [
        "print('Statistically summarise the review word count:', end=' ')\n",
        "max_word_count = int(dataset_df.tokens_size.describe().round(2).iloc[0])\n",
        "print(max_word_count)"
      ]
    },
    {
      "cell_type": "markdown",
      "metadata": {
        "id": "xnQVMWauSuzs"
      },
      "source": [
        "#### Find out vocabulary size"
      ]
    },
    {
      "cell_type": "code",
      "execution_count": 86,
      "metadata": {
        "colab": {
          "base_uri": "https://localhost:8080/"
        },
        "id": "2cKqZv4rS1NY",
        "outputId": "b47b4a4b-a325-4387-9206-0fd966f3d326"
      },
      "outputs": [
        {
          "output_type": "stream",
          "name": "stdout",
          "text": [
            "Vocabulary size of all tokens is 3641\n"
          ]
        }
      ],
      "source": [
        "def flatten(l):\n",
        "    return [item for sublist in l for item in sublist]\n",
        "\n",
        "vocab = set(flatten(list(dataset_df.tokens)))\n",
        "vocab_size = len(vocab)\n",
        "print(f\"Vocabulary size of all tokens is {vocab_size}\")"
      ]
    },
    {
      "cell_type": "markdown",
      "metadata": {
        "id": "jl59ULjprTpj"
      },
      "source": [
        "#### Index-Based Encoding: Unused in embedding for LSTM"
      ]
    },
    {
      "cell_type": "markdown",
      "metadata": {
        "id": "J4eY1JzwrpZT"
      },
      "source": [
        "Another encoding that preserves the order of the words as they occur in the sentences is the Index-Based Encoding.\n",
        "\n",
        "Pros\n",
        "\n",
        "(+) preserves order\n",
        "\n",
        "(+) easy to implement \n",
        "\n",
        "Cons\n",
        "\n",
        "(-) introduces artificial distance between words\n",
        "\n",
        "(-) allows variable vector lengths <=> we need to apply padding"
      ]
    },
    {
      "cell_type": "code",
      "execution_count": 25,
      "metadata": {
        "id": "GfYMFg3VrXAE"
      },
      "outputs": [],
      "source": [
        "def get_index_encoding(tokens, vocab) -> List[int]:\n",
        "    ind_enc = []\n",
        "    for t in tokens:\n",
        "        ind_enc.append(vocab.index(t) + 1)\n",
        "    return ind_enc\n",
        "\n",
        "\n",
        "def get_index_decoding(encoding, vocab) -> List[str]:\n",
        "    ind_dec = []\n",
        "    for t in encoding:\n",
        "        # we will encode padding as 0\n",
        "        if t >= 1:\n",
        "            ind_dec.append(vocab[t - 1])\n",
        "    return ind_dec\n",
        "\n",
        "\n",
        "assert get_index_encoding(['cat'], ['cat', 'dog', 'parrot']) == [1]\n",
        "assert get_index_decoding([0, 0, 1], ['cat', 'dog', 'parrot']) == ['cat']"
      ]
    },
    {
      "cell_type": "code",
      "execution_count": 26,
      "metadata": {
        "id": "rcEkoZQvtmas"
      },
      "outputs": [],
      "source": [
        "VOCAB_LIST = list(vocab)"
      ]
    },
    {
      "cell_type": "code",
      "execution_count": 27,
      "metadata": {
        "id": "IW4s0dJftV4e"
      },
      "outputs": [],
      "source": [
        "dataset_df['tokens_encoded'] = dataset_df['tokens'].apply(lambda x: get_index_encoding(x, VOCAB_LIST))"
      ]
    },
    {
      "cell_type": "markdown",
      "metadata": {
        "id": "KoxBwC_-voPJ"
      },
      "source": [
        "#### Split train and test data"
      ]
    },
    {
      "cell_type": "code",
      "execution_count": 28,
      "metadata": {
        "id": "oy4aezEkvweC"
      },
      "outputs": [],
      "source": [
        "from sklearn.model_selection import train_test_split\n",
        "from keras.utils import pad_sequences"
      ]
    },
    {
      "cell_type": "code",
      "execution_count": 58,
      "metadata": {
        "id": "DVxhXcxHSGAq"
      },
      "outputs": [],
      "source": [
        "from keras.preprocessing.text import Tokenizer\n",
        "\n",
        "# Get cleaned (pre-processed) data\n",
        "list_sentences = dataset_df['text']\n",
        "\n",
        "max_features = vocab_size + 1\n",
        "maxlen = max_word_count + 1\n",
        "\n",
        "# Use LSTM default Tokenization\n",
        "tokenizer = Tokenizer(num_words=max_features)\n",
        "# Set vocabulary\n",
        "tokenizer.fit_on_texts(list(list_sentences))\n",
        "# Tokenize all text reviews\n",
        "list_tokenized_text = tokenizer.texts_to_sequences(list_sentences)\n",
        "# Pad all review sentences\n",
        "list_tokenized_text = pad_sequences(list_tokenized_text, maxlen=maxlen)\n",
        "\n",
        "# Transform into 2d numpy arrays\n",
        "x = np.array(list_tokenized_text)\n",
        "y = np.array(dataset_df['label'])\n",
        "\n",
        "# Ensure Negative is 0, Positive is 1 for binary cross-entropy \n",
        "y[y == -1] = 0\n",
        "y[y ==  1] = 1\n",
        "\n",
        "# Split data\n",
        "x_train, x_test, y_train, y_test = train_test_split(x, y)"
      ]
    },
    {
      "cell_type": "markdown",
      "metadata": {
        "id": "eTLXsi61L899"
      },
      "source": [
        "#### Implement a Bi-directional LSTM"
      ]
    },
    {
      "cell_type": "code",
      "execution_count": 59,
      "metadata": {
        "id": "Vzu_my-yJhTV"
      },
      "outputs": [],
      "source": [
        "from tensorflow import keras\n",
        "from tensorflow.keras import layers\n",
        "from keras.layers import Embedding, LSTM, Dense, Dropout, Bidirectional, GlobalMaxPool1D\n",
        "from keras.models import Sequential"
      ]
    },
    {
      "cell_type": "code",
      "execution_count": 60,
      "metadata": {
        "id": "xv5noEttzi5q"
      },
      "outputs": [],
      "source": [
        "def biLSTM(lstm_dims: int = 128, \n",
        "           fully_connected_size: int = 50, \n",
        "           dropout: float = 0.1, \n",
        "           verbose: bool = False):\n",
        "    model = keras.Sequential([\n",
        "        Embedding(input_dim=max_features, output_dim=lstm_dims),\n",
        "        Bidirectional(layers.LSTM(lstm_dims, return_sequences=True)),\n",
        "        GlobalMaxPool1D(),\n",
        "        Dense(fully_connected_size,activation='relu'),\n",
        "        Dropout(dropout),\n",
        "        layers.Dense(1, activation=\"sigmoid\")\n",
        "    ])\n",
        "    if verbose:\n",
        "        print(model.summary())\n",
        "    return model  "
      ]
    },
    {
      "cell_type": "markdown",
      "metadata": {
        "id": "SLTEASuqzjoi"
      },
      "source": [
        "#### 5-fold Cross-validation"
      ]
    },
    {
      "cell_type": "code",
      "execution_count": 45,
      "metadata": {
        "id": "3Lt_2J8zzpcI"
      },
      "outputs": [],
      "source": [
        "from sklearn.model_selection import KFold"
      ]
    },
    {
      "cell_type": "code",
      "execution_count": null,
      "metadata": {
        "id": "ReObX4gfzp7A"
      },
      "outputs": [],
      "source": [
        "# hyperparams to test: lstm_dims, fully_connected_size, dropout\n",
        "hyperparameter_stats = []\n",
        "\n",
        "EPOCHS = 3\n",
        "num_folds = 5\n",
        "\n",
        "# the experiments are stored in different csv-s created by modifying filename below\n",
        "filename = 'hyperparameter_df_DEEP_LEARNING_TO_EPOCH_3_RENEWED.csv'\n",
        "csv_file_path = f'/content/drive/My Drive/Colab Notebooks/{filename}'\n",
        "\n",
        "# Set up the K-fold cross validation\n",
        "kfold = KFold(n_splits=num_folds, shuffle=True)\n",
        "\n",
        "for lstm_dims in [32, 64, 128, 180, 256]:\n",
        "    for fold, (train_index, test_index) in enumerate(kfold.split(x_train)):\n",
        "        start = time()\n",
        "\n",
        "        # create model\n",
        "        model = biLSTM(lstm_dims=lstm_dims)\n",
        "        model.compile(loss='binary_crossentropy', optimizer='adam', metrics=['accuracy'])\n",
        "        # Fit the model on the train data\n",
        "        model.fit(x_train[train_index], y_train[train_index],\n",
        "                  epochs=EPOCHS,\n",
        "                  validation_data=(x_train[test_index], y_train[test_index]))\n",
        "        end = time()\n",
        "        \n",
        "        # Evaluate the model on the test data\n",
        "        _, acc = model.evaluate(x_test, y_test)\n",
        "        print(f'Fold {fold+1}: Test accuracy = {acc}')\n",
        "\n",
        "        # Record hyperparam tuning progress\n",
        "        hyperparameter_entry = {\n",
        "            'lstm_dims': lstm_dims,\n",
        "            'accuracy': np.round(acc, 2),\n",
        "            'epochs': EPOCHS,\n",
        "            'kfold': fold,\n",
        "            'time (s)': np.round(end-start, 2),\n",
        "            \n",
        "        }\n",
        "        print(hyperparameter_entry)\n",
        "        hyperparameter_stats.append(hyperparameter_entry)\n",
        "    hyperparameter_df = pd.DataFrame(hyperparameter_stats)\n",
        "    hyperparameter_df.to_csv(csv_file_path, index=False)"
      ]
    },
    {
      "cell_type": "markdown",
      "source": [
        "### Selected model"
      ],
      "metadata": {
        "id": "pqDDRKds9nAz"
      }
    },
    {
      "cell_type": "code",
      "source": [
        "lstm_dims = 32\n",
        "fully_connected_size = 50\n",
        "dropout = 0.1\n",
        "EPOCHS = 3\n",
        "\n",
        "kfold = KFold(n_splits=num_folds, shuffle=True)\n",
        "\n",
        "for fold, (train_index, test_index) in enumerate(kfold.split(x_train)):\n",
        "    # create model\n",
        "    model = biLSTM(lstm_dims=lstm_dims, \n",
        "                  fully_connected_size=fully_connected_size,\n",
        "                  dropout=dropout)\n",
        "    model.compile(loss='binary_crossentropy', optimizer='adam', metrics=['accuracy'])\n",
        "    # Fit the model on the train data\n",
        "    model.fit(x_train[train_index], y_train[train_index],\n",
        "              epochs=EPOCHS,\n",
        "              validation_data=(x_train[test_index], y_train[test_index]))\n",
        "\n",
        "    # Evaluate the model on the test data\n",
        "    _, acc = model.evaluate(x_test, y_test)\n",
        "    print(f'Fold {fold+1}: Test accuracy = {acc}')"
      ],
      "metadata": {
        "colab": {
          "base_uri": "https://localhost:8080/"
        },
        "id": "9p99LgAu9qUO",
        "outputId": "41030071-236e-465e-d846-e0fce8325db6"
      },
      "execution_count": 61,
      "outputs": [
        {
          "output_type": "stream",
          "name": "stdout",
          "text": [
            "Epoch 1/3\n",
            "11/11 [==============================] - 9s 478ms/step - loss: 0.6813 - accuracy: 0.6619 - val_loss: 0.6603 - val_accuracy: 0.7273\n",
            "Epoch 2/3\n",
            "11/11 [==============================] - 4s 363ms/step - loss: 0.6475 - accuracy: 0.6960 - val_loss: 0.6040 - val_accuracy: 0.7273\n",
            "Epoch 3/3\n",
            "11/11 [==============================] - 4s 370ms/step - loss: 0.6253 - accuracy: 0.6960 - val_loss: 0.5862 - val_accuracy: 0.7273\n",
            "5/5 [==============================] - 0s 87ms/step - loss: 0.6001 - accuracy: 0.7143\n",
            "Fold 1: Test accuracy = 0.7142857313156128\n",
            "Epoch 1/3\n",
            "11/11 [==============================] - 9s 482ms/step - loss: 0.6710 - accuracy: 0.7102 - val_loss: 0.6538 - val_accuracy: 0.6705\n",
            "Epoch 2/3\n",
            "11/11 [==============================] - 4s 377ms/step - loss: 0.6158 - accuracy: 0.7102 - val_loss: 0.6484 - val_accuracy: 0.6705\n",
            "Epoch 3/3\n",
            "11/11 [==============================] - 4s 383ms/step - loss: 0.6059 - accuracy: 0.7102 - val_loss: 0.6365 - val_accuracy: 0.6705\n",
            "5/5 [==============================] - 0s 85ms/step - loss: 0.6002 - accuracy: 0.7143\n",
            "Fold 2: Test accuracy = 0.7142857313156128\n",
            "Epoch 1/3\n",
            "11/11 [==============================] - 8s 471ms/step - loss: 0.6820 - accuracy: 0.6534 - val_loss: 0.6584 - val_accuracy: 0.7500\n",
            "Epoch 2/3\n",
            "11/11 [==============================] - 4s 370ms/step - loss: 0.6491 - accuracy: 0.6903 - val_loss: 0.5911 - val_accuracy: 0.7500\n",
            "Epoch 3/3\n",
            "11/11 [==============================] - 4s 369ms/step - loss: 0.6233 - accuracy: 0.6903 - val_loss: 0.5625 - val_accuracy: 0.7500\n",
            "5/5 [==============================] - 0s 84ms/step - loss: 0.5995 - accuracy: 0.7143\n",
            "Fold 3: Test accuracy = 0.7142857313156128\n",
            "Epoch 1/3\n",
            "11/11 [==============================] - 9s 479ms/step - loss: 0.6713 - accuracy: 0.7045 - val_loss: 0.6502 - val_accuracy: 0.6818\n",
            "Epoch 2/3\n",
            "11/11 [==============================] - 4s 373ms/step - loss: 0.6218 - accuracy: 0.7074 - val_loss: 0.6218 - val_accuracy: 0.6818\n",
            "Epoch 3/3\n",
            "11/11 [==============================] - 4s 379ms/step - loss: 0.6039 - accuracy: 0.7074 - val_loss: 0.6214 - val_accuracy: 0.6818\n",
            "5/5 [==============================] - 0s 87ms/step - loss: 0.5984 - accuracy: 0.7143\n",
            "Fold 4: Test accuracy = 0.7142857313156128\n",
            "Epoch 1/3\n",
            "11/11 [==============================] - 8s 474ms/step - loss: 0.6760 - accuracy: 0.6733 - val_loss: 0.6589 - val_accuracy: 0.6818\n",
            "Epoch 2/3\n",
            "11/11 [==============================] - 4s 373ms/step - loss: 0.6197 - accuracy: 0.7074 - val_loss: 0.6330 - val_accuracy: 0.6818\n",
            "Epoch 3/3\n",
            "11/11 [==============================] - 4s 385ms/step - loss: 0.6034 - accuracy: 0.7074 - val_loss: 0.6377 - val_accuracy: 0.6818\n",
            "5/5 [==============================] - 0s 86ms/step - loss: 0.6024 - accuracy: 0.7143\n",
            "Fold 5: Test accuracy = 0.7142857313156128\n"
          ]
        }
      ]
    },
    {
      "cell_type": "markdown",
      "source": [
        "### Selected model with stratified data"
      ],
      "metadata": {
        "id": "GPEpfG8Th5o0"
      }
    },
    {
      "cell_type": "code",
      "source": [
        "from sklearn.model_selection import StratifiedKFold"
      ],
      "metadata": {
        "id": "lobur-CQiXB_"
      },
      "execution_count": 62,
      "outputs": []
    },
    {
      "cell_type": "code",
      "source": [
        "lstm_dims = 32\n",
        "fully_connected_size = 10\n",
        "dropout = 0.1\n",
        "EPOCHS = 3\n",
        "\n",
        "kfold = StratifiedKFold(n_splits=num_folds, shuffle=True)\n",
        "\n",
        "for fold, (train_index, test_index) in enumerate(kfold.split(x_train, y_train)):\n",
        "    # create model\n",
        "    model = biLSTM(lstm_dims=lstm_dims, \n",
        "                   fully_connected_size=fully_connected_size,\n",
        "                   dropout=dropout)\n",
        "    model.compile(loss='binary_crossentropy', optimizer='adam', metrics=['accuracy'])\n",
        "    # Fit the model on the train data\n",
        "    model.fit(x[train_index], y[train_index],\n",
        "              epochs=EPOCHS,\n",
        "              validation_data=(x[test_index], y[test_index]))\n",
        "    \n",
        "    # Evaluate the model on the test data\n",
        "    _, acc = model.evaluate(x_test, y_test)\n",
        "    print(f'Fold {fold+1}: Test accuracy = {acc}')"
      ],
      "metadata": {
        "colab": {
          "base_uri": "https://localhost:8080/"
        },
        "id": "lTGBW7TEh-UQ",
        "outputId": "b473de96-f6ba-4ebd-a8b8-3f581737db8d"
      },
      "execution_count": 64,
      "outputs": [
        {
          "output_type": "stream",
          "name": "stdout",
          "text": [
            "Epoch 1/3\n",
            "11/11 [==============================] - 8s 474ms/step - loss: 0.6788 - accuracy: 0.6989 - val_loss: 0.6562 - val_accuracy: 0.7386\n",
            "Epoch 2/3\n",
            "11/11 [==============================] - 4s 372ms/step - loss: 0.6430 - accuracy: 0.7102 - val_loss: 0.5879 - val_accuracy: 0.7386\n",
            "Epoch 3/3\n",
            "11/11 [==============================] - 4s 367ms/step - loss: 0.6350 - accuracy: 0.7102 - val_loss: 0.5748 - val_accuracy: 0.7386\n",
            "5/5 [==============================] - 0s 83ms/step - loss: 0.5985 - accuracy: 0.7143\n",
            "Fold 1: Test accuracy = 0.7142857313156128\n",
            "Epoch 1/3\n",
            "11/11 [==============================] - 48s 486ms/step - loss: 0.6858 - accuracy: 0.6080 - val_loss: 0.6748 - val_accuracy: 0.6932\n",
            "Epoch 2/3\n",
            "11/11 [==============================] - 6s 554ms/step - loss: 0.6548 - accuracy: 0.7216 - val_loss: 0.6390 - val_accuracy: 0.6932\n",
            "Epoch 3/3\n",
            "11/11 [==============================] - 4s 382ms/step - loss: 0.6075 - accuracy: 0.7216 - val_loss: 0.6230 - val_accuracy: 0.6932\n",
            "5/5 [==============================] - 0s 83ms/step - loss: 0.5999 - accuracy: 0.7143\n",
            "Fold 2: Test accuracy = 0.7142857313156128\n",
            "Epoch 1/3\n",
            "11/11 [==============================] - 9s 474ms/step - loss: 0.6753 - accuracy: 0.6989 - val_loss: 0.6362 - val_accuracy: 0.7727\n",
            "Epoch 2/3\n",
            "11/11 [==============================] - 4s 370ms/step - loss: 0.6291 - accuracy: 0.7017 - val_loss: 0.5653 - val_accuracy: 0.7727\n",
            "Epoch 3/3\n",
            "11/11 [==============================] - 4s 372ms/step - loss: 0.6099 - accuracy: 0.7017 - val_loss: 0.5433 - val_accuracy: 0.7727\n",
            "5/5 [==============================] - 0s 85ms/step - loss: 0.5962 - accuracy: 0.7143\n",
            "Fold 3: Test accuracy = 0.7142857313156128\n",
            "Epoch 1/3\n",
            "11/11 [==============================] - 9s 471ms/step - loss: 0.6859 - accuracy: 0.7017 - val_loss: 0.6710 - val_accuracy: 0.7500\n",
            "Epoch 2/3\n",
            "11/11 [==============================] - 4s 376ms/step - loss: 0.6586 - accuracy: 0.7074 - val_loss: 0.6170 - val_accuracy: 0.7500\n",
            "Epoch 3/3\n",
            "11/11 [==============================] - 4s 370ms/step - loss: 0.6059 - accuracy: 0.7074 - val_loss: 0.5647 - val_accuracy: 0.7500\n",
            "5/5 [==============================] - 0s 82ms/step - loss: 0.5986 - accuracy: 0.7143\n",
            "Fold 4: Test accuracy = 0.7142857313156128\n",
            "Epoch 1/3\n",
            "11/11 [==============================] - 9s 478ms/step - loss: 0.6744 - accuracy: 0.7301 - val_loss: 0.6678 - val_accuracy: 0.6250\n",
            "Epoch 2/3\n",
            "11/11 [==============================] - 4s 375ms/step - loss: 0.6045 - accuracy: 0.7386 - val_loss: 0.6770 - val_accuracy: 0.6250\n",
            "Epoch 3/3\n",
            "11/11 [==============================] - 4s 375ms/step - loss: 0.5811 - accuracy: 0.7386 - val_loss: 0.7159 - val_accuracy: 0.6250\n",
            "5/5 [==============================] - 0s 83ms/step - loss: 0.6059 - accuracy: 0.7143\n",
            "Fold 5: Test accuracy = 0.7142857313156128\n"
          ]
        }
      ]
    },
    {
      "cell_type": "markdown",
      "metadata": {
        "id": "7afEnxLgannk"
      },
      "source": [
        "### Analyse EPOCH = 10 effect on Hyperparameters"
      ]
    },
    {
      "cell_type": "markdown",
      "metadata": {
        "id": "sXMpsLTHe4uu"
      },
      "source": [
        "Observations from output file `hyperparameter_to_epoch_10.txt` suggest that **EPOCHS > 3** result in **increased training accuracy**, but **unchanged validation accuracy** (I suspect this is due to over-fitting to the training data). Hence, for other experiments I will assume MAX EPOCHS = 3 to maintain a quicker testing environment. Additionally, Dropout did not seem to affect considerably the accuracy."
      ]
    },
    {
      "cell_type": "code",
      "execution_count": 65,
      "metadata": {
        "id": "X6Y7TceFas0-"
      },
      "outputs": [],
      "source": [
        "# file will be zipped with submission\n",
        "hyperparameter_df = pd.read_csv(f'/content/drive/My Drive/Colab Notebooks/hyperparameter_df_DEEP_LEARNING_TO_EPOCH_10.csv')"
      ]
    },
    {
      "cell_type": "markdown",
      "metadata": {
        "id": "U8jWRHNRcw_n"
      },
      "source": [
        "#### Show dropout rate change"
      ]
    },
    {
      "cell_type": "code",
      "execution_count": null,
      "metadata": {
        "colab": {
          "base_uri": "https://localhost:8080/",
          "height": 295
        },
        "id": "ZZKh0IiDZBNj",
        "outputId": "8b81053b-ead5-43e8-b38b-fad0e821530b"
      },
      "outputs": [
        {
          "data": {
            "image/png": "[encoded data removed]",
            "text/plain": [
              "<Figure size 432x288 with 1 Axes>"
            ]
          },
          "metadata": {},
          "output_type": "display_data"
        }
      ],
      "source": [
        "plt.title('No significant difference between different Dropout rates')\n",
        "sns.boxplot(data=hyperparameter_df, x='dropout', y='accuracy', hue='lstm_dims')\n",
        "plt.show()"
      ]
    },
    {
      "cell_type": "code",
      "source": [
        "plt.title('No significant difference between different fully_connected_sizes')\n",
        "sns.boxplot(data=hyperparameter_df, x='fully_connected_size', y='accuracy', hue='lstm_dims')\n",
        "plt.show()"
      ],
      "metadata": {
        "colab": {
          "base_uri": "https://localhost:8080/",
          "height": 296
        },
        "id": "acsd2DQw31c3",
        "outputId": "e8a4ee3d-f7c0-43e9-eaaf-7c9b9c8311ba"
      },
      "execution_count": 67,
      "outputs": [
        {
          "output_type": "display_data",
          "data": {
            "text/plain": [
              "<Figure size 432x288 with 1 Axes>"
            ],
            "image/png": "[encoded data removed]"
          },
          "metadata": {
            "needs_background": "light"
          }
        }
      ]
    },
    {
      "cell_type": "markdown",
      "source": [
        "### Analyse EPOCH = 3 effect on Hyperparameters"
      ],
      "metadata": {
        "id": "cBSB6st_8Zcz"
      }
    },
    {
      "cell_type": "markdown",
      "source": [
        "Experimentation with different LSTM sizes at Epoch 3 **does not display any differenes wrt accuracy** between selected dimensions [32, 64, 128, 180, 256]"
      ],
      "metadata": {
        "id": "qoD1JqvJ8yd_"
      }
    },
    {
      "cell_type": "code",
      "source": [
        "# file will be zipped with submission\n",
        "hyperparameter_df = pd.read_csv(f'/content/drive/My Drive/Colab Notebooks/hyperparameter_df_DEEP_LEARNING_TO_EPOCH_3.csv')"
      ],
      "metadata": {
        "id": "Cirx6G9n8fMr"
      },
      "execution_count": 69,
      "outputs": []
    },
    {
      "cell_type": "code",
      "source": [
        "plt.title('No difference between LSTM dimensions')\n",
        "sns.barplot(data=hyperparameter_df, x='lstm_dims', y='accuracy')\n",
        "plt.show()"
      ],
      "metadata": {
        "colab": {
          "base_uri": "https://localhost:8080/",
          "height": 296
        },
        "id": "B67O6FUH8gNI",
        "outputId": "33c4e2c9-e9a2-4d6d-eb47-e4694799e93e"
      },
      "execution_count": 70,
      "outputs": [
        {
          "output_type": "display_data",
          "data": {
            "text/plain": [
              "<Figure size 432x288 with 1 Axes>"
            ],
            "image/png": "[encoded data removed]"
          },
          "metadata": {
            "needs_background": "light"
          }
        }
      ]
    },
    {
      "cell_type": "code",
      "source": [],
      "metadata": {
        "id": "-bh8ScLa8g0b"
      },
      "execution_count": null,
      "outputs": []
    }
  ],
  "metadata": {
    "colab": {
      "provenance": []
    },
    "kernelspec": {
      "display_name": "Python 3",
      "name": "python3"
    },
    "language_info": {
      "name": "python"
    }
  },
  "nbformat": 4,
  "nbformat_minor": 0
}